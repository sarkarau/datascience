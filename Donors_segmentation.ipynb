{
  "nbformat": 4,
  "nbformat_minor": 0,
  "metadata": {
    "colab": {
      "provenance": [],
      "authorship_tag": "ABX9TyOLUYwDHHBE+CsP2rTzGMWy",
      "include_colab_link": true
    },
    "kernelspec": {
      "name": "python3",
      "display_name": "Python 3"
    },
    "language_info": {
      "name": "python"
    }
  },
  "cells": [
    {
      "cell_type": "markdown",
      "metadata": {
        "id": "view-in-github",
        "colab_type": "text"
      },
      "source": [
        "<a href=\"https://colab.research.google.com/github/sarkarau/datascience/blob/main/Donors_segmentation.ipynb\" target=\"_parent\"><img src=\"https://colab.research.google.com/assets/colab-badge.svg\" alt=\"Open In Colab\"/></a>"
      ]
    },
    {
      "cell_type": "markdown",
      "source": [
        "# Segmentation of Donors\n",
        "For a non-profit organization I had a csv with payments, their details and emails of donors. I wanted to perform a simple segmentation on these data. So I Googled RFM segmentation.\n",
        "With help of ChatGPT I was able to perform this within 3 hours by myself."
      ],
      "metadata": {
        "id": "vPfHJKvPeTwY"
      }
    },
    {
      "cell_type": "markdown",
      "source": [
        "## 0. Get data"
      ],
      "metadata": {
        "id": "lKgrMM5HfsMB"
      }
    },
    {
      "cell_type": "code",
      "execution_count": 1,
      "metadata": {
        "id": "DZD2EUCHT_pj"
      },
      "outputs": [],
      "source": [
        "import numpy as np\n",
        "import pandas as pd\n",
        "import matplotlib.pyplot as plt\n",
        "import seaborn as sns\n",
        "from sklearn import preprocessing\n",
        "from sklearn.model_selection import train_test_split\n",
        "from sklearn.metrics import accuracy_score\n",
        "\n",
        "import warnings\n",
        "warnings.filterwarnings('ignore')\n",
        "\n",
        "# Increase a figure size\n",
        "sns.set(rc={'figure.figsize':(12,8)})\n",
        "\n",
        "%matplotlib inline"
      ]
    },
    {
      "cell_type": "code",
      "source": [
        "data = pd.read_csv('/content/payments.csv')"
      ],
      "metadata": {
        "id": "R1IdX0JKUVlv"
      },
      "execution_count": 23,
      "outputs": []
    },
    {
      "cell_type": "code",
      "source": [
        "data.info()"
      ],
      "metadata": {
        "colab": {
          "base_uri": "https://localhost:8080/"
        },
        "id": "9bDRu9Q-UbfZ",
        "outputId": "88d02a5d-43a1-4f63-8ee0-4e48ae729f57"
      },
      "execution_count": 24,
      "outputs": [
        {
          "output_type": "stream",
          "name": "stdout",
          "text": [
            "<class 'pandas.core.frame.DataFrame'>\n",
            "RangeIndex: 132096 entries, 0 to 132095\n",
            "Data columns (total 15 columns):\n",
            " #   Column       Non-Null Count   Dtype \n",
            "---  ------       --------------   ----- \n",
            " 0   ID           132096 non-null  int64 \n",
            " 1   Campaign ID  132096 non-null  object\n",
            " 2   Status       132096 non-null  object\n",
            " 3   Banka        132096 non-null  object\n",
            " 4   Test         132096 non-null  int64 \n",
            " 5   Is donation  132096 non-null  int64 \n",
            " 6   Transparent  132096 non-null  object\n",
            " 7   Příspěvek    132096 non-null  object\n",
            " 8   Poplatek     132096 non-null  object\n",
            " 9   E-mail       132096 non-null  object\n",
            " 10  Comgate ID   132055 non-null  object\n",
            " 11  VS           132047 non-null  object\n",
            " 12  Vytvořeno    132096 non-null  object\n",
            " 13  Bank Date    132096 non-null  object\n",
            " 14  Bank Month   132096 non-null  object\n",
            "dtypes: int64(3), object(12)\n",
            "memory usage: 15.1+ MB\n"
          ]
        }
      ]
    },
    {
      "cell_type": "markdown",
      "source": [
        "## 1. Feature and data preparation\n",
        "Let´s drop the columns and rows with chosen payment statuses."
      ],
      "metadata": {
        "id": "dKAWRLb2NejK"
      }
    },
    {
      "cell_type": "code",
      "source": [
        "processed = data.drop(['ID', 'Campaign ID', 'VS', 'Test', 'Poplatek', 'Banka', 'Comgate ID', 'Vytvořeno'], axis=1)"
      ],
      "metadata": {
        "id": "vR0izccvrdJd"
      },
      "execution_count": 25,
      "outputs": []
    },
    {
      "cell_type": "code",
      "source": [
        "data.to_pickle(\"processed.pkl\")"
      ],
      "metadata": {
        "id": "aWA3CaxvvFJY"
      },
      "execution_count": 26,
      "outputs": []
    },
    {
      "cell_type": "code",
      "source": [
        "processed.drop(processed[processed['Status'] == 'CANCELLED'].index, inplace = True)"
      ],
      "metadata": {
        "id": "OiSG77g9vYNS"
      },
      "execution_count": 27,
      "outputs": []
    },
    {
      "cell_type": "code",
      "source": [
        "processed.drop(processed[processed['Status'] == 'PENDING'].index, inplace = True)"
      ],
      "metadata": {
        "id": "gUL6S5bCwwl7"
      },
      "execution_count": 28,
      "outputs": []
    },
    {
      "cell_type": "code",
      "source": [
        "processed.drop(processed[processed['Status'] == 'REFUNDED'].index, inplace = True)"
      ],
      "metadata": {
        "id": "MhNP01dpw6bQ"
      },
      "execution_count": 29,
      "outputs": []
    },
    {
      "cell_type": "markdown",
      "source": [
        "Deleting 10377 anonymous donors (email = \\N)"
      ],
      "metadata": {
        "id": "yPRs93kgxrkr"
      }
    },
    {
      "cell_type": "code",
      "source": [
        "processed['E-mail'].describe()"
      ],
      "metadata": {
        "colab": {
          "base_uri": "https://localhost:8080/"
        },
        "id": "hyuwv1kw1fzn",
        "outputId": "417c3b19-8b83-4881-da33-e55868ed67d2"
      },
      "execution_count": 30,
      "outputs": [
        {
          "output_type": "execute_result",
          "data": {
            "text/plain": [
              "count     105238\n",
              "unique     43708\n",
              "top           \\N\n",
              "freq       10377\n",
              "Name: E-mail, dtype: object"
            ]
          },
          "metadata": {},
          "execution_count": 30
        }
      ]
    },
    {
      "cell_type": "code",
      "source": [
        "processed.drop(processed[processed['E-mail'] == '\\\\N'].index, inplace=True)"
      ],
      "metadata": {
        "id": "VoXuZIZN2SdT"
      },
      "execution_count": 31,
      "outputs": []
    },
    {
      "cell_type": "code",
      "source": [
        "processed.drop(processed[processed['Bank Date'] == '\\\\N'].index, inplace=True)"
      ],
      "metadata": {
        "id": "iwFm3S4NPJ3l"
      },
      "execution_count": 32,
      "outputs": []
    },
    {
      "cell_type": "code",
      "source": [
        "data.to_pickle(\"processed1.pkl\")"
      ],
      "metadata": {
        "id": "-wyjNNmX4cQm"
      },
      "execution_count": 33,
      "outputs": []
    },
    {
      "cell_type": "markdown",
      "source": [
        "## 2. RFM analysis\n",
        "First we need to convert certain data types. Then, we can perform the segmentation.\n",
        "\n"
      ],
      "metadata": {
        "id": "NdMc3r3RLbJt"
      }
    },
    {
      "cell_type": "code",
      "source": [
        "# Convert 'Bank Date' column to datetime\n",
        "processed['Bank Date'] = pd.to_datetime(processed['Bank Date'], dayfirst=True)"
      ],
      "metadata": {
        "id": "8V9AYhZ2Og94"
      },
      "execution_count": 34,
      "outputs": []
    },
    {
      "cell_type": "code",
      "source": [
        "processed['Příspěvek'] = processed['Příspěvek'].astype(int)"
      ],
      "metadata": {
        "id": "kXmFMh-rae0H"
      },
      "execution_count": 35,
      "outputs": []
    },
    {
      "cell_type": "code",
      "source": [
        "processed.info()"
      ],
      "metadata": {
        "id": "UuoelMqgQ2e3",
        "outputId": "e0132747-194b-4356-e5a9-a57aa7c713ae",
        "colab": {
          "base_uri": "https://localhost:8080/"
        }
      },
      "execution_count": 36,
      "outputs": [
        {
          "output_type": "stream",
          "name": "stdout",
          "text": [
            "<class 'pandas.core.frame.DataFrame'>\n",
            "Index: 94701 entries, 1 to 132045\n",
            "Data columns (total 7 columns):\n",
            " #   Column       Non-Null Count  Dtype         \n",
            "---  ------       --------------  -----         \n",
            " 0   Status       94701 non-null  object        \n",
            " 1   Is donation  94701 non-null  int64         \n",
            " 2   Transparent  94701 non-null  object        \n",
            " 3   Příspěvek    94701 non-null  int64         \n",
            " 4   E-mail       94701 non-null  object        \n",
            " 5   Bank Date    94701 non-null  datetime64[ns]\n",
            " 6   Bank Month   94701 non-null  object        \n",
            "dtypes: datetime64[ns](1), int64(2), object(4)\n",
            "memory usage: 5.8+ MB\n"
          ]
        }
      ]
    },
    {
      "cell_type": "code",
      "source": [
        "# Define a function to calculate recency\n",
        "def calculate_recency(x):\n",
        "    current_date = pd.to_datetime('2024-04-14')  # Your current date\n",
        "    max_date = pd.to_datetime(x.max(), errors='coerce')  # Convert to datetime, handle errors\n",
        "    return (current_date - max_date).days if not pd.isnull(max_date) else pd.NaT"
      ],
      "metadata": {
        "id": "AKuSke-DSU9f"
      },
      "execution_count": 37,
      "outputs": []
    },
    {
      "cell_type": "code",
      "source": [
        "# Group by 'E-mail' and calculate Recency, Frequency, and Monetary values\n",
        "rfm = processed.groupby('E-mail').agg({\n",
        "    'Bank Date': calculate_recency,  # Recency\n",
        "    'E-mail': 'size',  # Frequency\n",
        "    'Příspěvek': 'sum'  # Monetary\n",
        "})\n",
        "\n",
        "# Rename columns\n",
        "rfm.columns = ['Recency', 'Frequency', 'Monetary']\n",
        "\n",
        "# Print RFM data\n",
        "print(rfm)"
      ],
      "metadata": {
        "colab": {
          "base_uri": "https://localhost:8080/"
        },
        "id": "IIpt4EtgZigT",
        "outputId": "cef5fd08-e882-477f-9712-c710127332ac"
      },
      "execution_count": 38,
      "outputs": [
        {
          "output_type": "stream",
          "name": "stdout",
          "text": [
            "                       Recency  Frequency  Monetary\n",
            "E-mail                                             \n",
            "001938@GMAIL.COM           243         37     31574\n",
            "007adela@seznam.cz        1412          1       100\n",
            "007haky@gmail.com          285          1       500\n",
            "007jaba@gmail.com          461          2       800\n",
            "007tommy@centrum.cz       1560          1       500\n",
            "...                        ...        ...       ...\n",
            "zzurek@seznam.cz           205          2      1000\n",
            "zzvv@volny.cz              381          1       200\n",
            "zzz@centrum.cz            1251          3      1500\n",
            "zzzuzannnka@seznam.cz      383          1      1800\n",
            "zzzuzzzkaaa@seznam.cz     1277          1       200\n",
            "\n",
            "[43652 rows x 3 columns]\n"
          ]
        }
      ]
    },
    {
      "cell_type": "code",
      "source": [
        "rfm.to_csv('rfm_scores.csv')"
      ],
      "metadata": {
        "id": "zSGmMvB0pt_6"
      },
      "execution_count": 39,
      "outputs": []
    },
    {
      "cell_type": "code",
      "source": [
        "# RFM segmentation\n",
        "# Define quartiles for each RFM metric\n",
        "quartiles = rfm.quantile(q=[0.25, 0.5, 0.75])\n",
        "\n",
        "# Function to create RFM segments\n",
        "def rfm_segment(row, metrics, quartiles):\n",
        "    rfm_segment = ''\n",
        "    for i, metric in enumerate(metrics):\n",
        "        if metric == 'Recency':\n",
        "            if row[metric] <= quartiles[metric][0.25]:\n",
        "                rfm_segment += '1'\n",
        "            elif row[metric] <= quartiles[metric][0.5]:\n",
        "                rfm_segment += '2'\n",
        "            elif row[metric] <= quartiles[metric][0.75]:\n",
        "                rfm_segment += '3'\n",
        "            else:\n",
        "                rfm_segment += '4'\n",
        "        else:  # For Frequency and Monetary\n",
        "            if row[metric] <= quartiles[metric][0.25]:\n",
        "                rfm_segment += '4'\n",
        "            elif row[metric] <= quartiles[metric][0.5]:\n",
        "                rfm_segment += '3'\n",
        "            elif row[metric] <= quartiles[metric][0.75]:\n",
        "                rfm_segment += '2'\n",
        "            else:\n",
        "                rfm_segment += '1'\n",
        "    return rfm_segment"
      ],
      "metadata": {
        "id": "vvqOps8ttGIy"
      },
      "execution_count": 40,
      "outputs": []
    },
    {
      "cell_type": "code",
      "source": [
        "# Apply segmentation function to each row\n",
        "rfm['RFM_Segment'] = rfm.apply(lambda x: rfm_segment(x, ['Recency', 'Frequency', 'Monetary'], quartiles), axis=1)\n",
        "\n",
        "# Calculate RFM Score\n",
        "rfm['RFM_Score'] = rfm[['Recency', 'Frequency', 'Monetary']].sum(axis=1)\n",
        "\n",
        "# Output RFM data\n",
        "print(rfm)"
      ],
      "metadata": {
        "colab": {
          "base_uri": "https://localhost:8080/"
        },
        "id": "eoCXizXbvbaJ",
        "outputId": "c5ba815b-68a3-422a-f382-1ee5d7ebcab4"
      },
      "execution_count": 41,
      "outputs": [
        {
          "output_type": "stream",
          "name": "stdout",
          "text": [
            "                       Recency  Frequency  Monetary RFM_Segment  RFM_Score\n",
            "E-mail                                                                    \n",
            "001938@GMAIL.COM           243         37     31574         111      31854\n",
            "007adela@seznam.cz        1412          1       100         344       1513\n",
            "007haky@gmail.com          285          1       500         143        786\n",
            "007jaba@gmail.com          461          2       800         112       1263\n",
            "007tommy@centrum.cz       1560          1       500         343       2061\n",
            "...                        ...        ...       ...         ...        ...\n",
            "zzurek@seznam.cz           205          2      1000         112       1207\n",
            "zzvv@volny.cz              381          1       200         144        582\n",
            "zzz@centrum.cz            1251          3      1500         311       2754\n",
            "zzzuzannnka@seznam.cz      383          1      1800         141       2184\n",
            "zzzuzzzkaaa@seznam.cz     1277          1       200         344       1478\n",
            "\n",
            "[43652 rows x 5 columns]\n"
          ]
        }
      ]
    },
    {
      "cell_type": "markdown",
      "source": [
        "## 3. Download the results"
      ],
      "metadata": {
        "id": "bZ4cZI68jDxP"
      }
    },
    {
      "cell_type": "code",
      "source": [
        "rfm.to_csv('rfm.csv')"
      ],
      "metadata": {
        "id": "V9REGjaujFBp"
      },
      "execution_count": 45,
      "outputs": []
    }
  ]
}