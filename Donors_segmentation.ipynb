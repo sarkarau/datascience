{
  "nbformat": 4,
  "nbformat_minor": 0,
  "metadata": {
    "colab": {
      "provenance": [],
      "authorship_tag": "ABX9TyMVrQQtt4cffG2HIi5pLEHF",
      "include_colab_link": true
    },
    "kernelspec": {
      "name": "python3",
      "display_name": "Python 3"
    },
    "language_info": {
      "name": "python"
    }
  },
  "cells": [
    {
      "cell_type": "markdown",
      "metadata": {
        "id": "view-in-github",
        "colab_type": "text"
      },
      "source": [
        "<a href=\"https://colab.research.google.com/github/sarkarau/datascience/blob/main/Donors_segmentation.ipynb\" target=\"_parent\"><img src=\"https://colab.research.google.com/assets/colab-badge.svg\" alt=\"Open In Colab\"/></a>"
      ]
    },
    {
      "cell_type": "markdown",
      "source": [
        "# Segmentation of Donors\n",
        "For a non-profit organization I had a csv with payments, their details and emails of donors. I wanted to perform a simple segmentation on these data. So I Googled RFM segmentation.\n",
        "With help of ChatGPT I was able to perform this within 3 hours by myself."
      ],
      "metadata": {
        "id": "vPfHJKvPeTwY"
      }
    },
    {
      "cell_type": "markdown",
      "source": [
        "## 0. Get data"
      ],
      "metadata": {
        "id": "lKgrMM5HfsMB"
      }
    },
    {
      "cell_type": "code",
      "execution_count": null,
      "metadata": {
        "id": "DZD2EUCHT_pj"
      },
      "outputs": [],
      "source": [
        "import numpy as np\n",
        "import pandas as pd\n",
        "import matplotlib.pyplot as plt\n",
        "import seaborn as sns\n",
        "from sklearn import preprocessing\n",
        "from sklearn.model_selection import train_test_split\n",
        "from sklearn.metrics import accuracy_score\n",
        "\n",
        "import warnings\n",
        "warnings.filterwarnings('ignore')\n",
        "\n",
        "# Increase a figure size\n",
        "sns.set(rc={'figure.figsize':(12,8)})\n",
        "\n",
        "%matplotlib inline"
      ]
    },
    {
      "cell_type": "code",
      "source": [
        "data = pd.read_csv('/content/payments.csv')"
      ],
      "metadata": {
        "id": "R1IdX0JKUVlv"
      },
      "execution_count": null,
      "outputs": []
    },
    {
      "cell_type": "code",
      "source": [
        "data.info()"
      ],
      "metadata": {
        "colab": {
          "base_uri": "https://localhost:8080/"
        },
        "id": "9bDRu9Q-UbfZ",
        "outputId": "d4fdcf59-783b-4773-ecf7-385888a92f57"
      },
      "execution_count": null,
      "outputs": [
        {
          "output_type": "stream",
          "name": "stdout",
          "text": [
            "<class 'pandas.core.frame.DataFrame'>\n",
            "RangeIndex: 132096 entries, 0 to 132095\n",
            "Data columns (total 15 columns):\n",
            " #   Column       Non-Null Count   Dtype \n",
            "---  ------       --------------   ----- \n",
            " 0   ID           132096 non-null  int64 \n",
            " 1   Campaign ID  132096 non-null  object\n",
            " 2   Status       132096 non-null  object\n",
            " 3   Banka        132096 non-null  object\n",
            " 4   Test         132096 non-null  int64 \n",
            " 5   Is donation  132096 non-null  int64 \n",
            " 6   Transparent  132096 non-null  object\n",
            " 7   Příspěvek    132096 non-null  object\n",
            " 8   Poplatek     132096 non-null  object\n",
            " 9   E-mail       132096 non-null  object\n",
            " 10  Comgate ID   132055 non-null  object\n",
            " 11  VS           132047 non-null  object\n",
            " 12  Vytvořeno    132096 non-null  object\n",
            " 13  Bank Date    132096 non-null  object\n",
            " 14  Bank Month   132096 non-null  object\n",
            "dtypes: int64(3), object(12)\n",
            "memory usage: 15.1+ MB\n"
          ]
        }
      ]
    },
    {
      "cell_type": "markdown",
      "source": [
        "## 1. Feature and data preparation\n",
        "Let´s drop the columns and rows with chosen payment statuses."
      ],
      "metadata": {
        "id": "dKAWRLb2NejK"
      }
    },
    {
      "cell_type": "code",
      "source": [
        "processed = data.drop(['ID', 'Campaign ID', 'VS', 'Test', 'Poplatek', 'Banka', 'Comgate ID', 'Vytvořeno'], axis=1)"
      ],
      "metadata": {
        "id": "vR0izccvrdJd"
      },
      "execution_count": null,
      "outputs": []
    },
    {
      "cell_type": "code",
      "source": [
        "processed.head(5)"
      ],
      "metadata": {
        "colab": {
          "base_uri": "https://localhost:8080/",
          "height": 206
        },
        "id": "OXj-hLO9sp_Y",
        "outputId": "51376517-a55d-493d-af40-bc6437aa6d87"
      },
      "execution_count": null,
      "outputs": [
        {
          "output_type": "execute_result",
          "data": {
            "text/plain": [
              "      Status  Is donation Transparent Příspěvek                    E-mail  \\\n",
              "0  CANCELLED            1           0       100                 bla@bu.be   \n",
              "1       PAID            1           0       100  zbysek.pochyly@gmail.com   \n",
              "2       PAID            1           0       100          kuhn.p@seznam.cz   \n",
              "3       PAID            1           0      3000          radka@outpost.cz   \n",
              "4       PAID            1           0       500        spoulson@seznam.cz   \n",
              "\n",
              "    Bank Date Bank Month  \n",
              "0          \\N         \\N  \n",
              "1  04.10.2017     201710  \n",
              "2  04.10.2017     201710  \n",
              "3  04.10.2017     201710  \n",
              "4  04.10.2017     201710  "
            ],
            "text/html": [
              "\n",
              "  <div id=\"df-95ccc076-e83b-443f-bcf4-13489576f981\" class=\"colab-df-container\">\n",
              "    <div>\n",
              "<style scoped>\n",
              "    .dataframe tbody tr th:only-of-type {\n",
              "        vertical-align: middle;\n",
              "    }\n",
              "\n",
              "    .dataframe tbody tr th {\n",
              "        vertical-align: top;\n",
              "    }\n",
              "\n",
              "    .dataframe thead th {\n",
              "        text-align: right;\n",
              "    }\n",
              "</style>\n",
              "<table border=\"1\" class=\"dataframe\">\n",
              "  <thead>\n",
              "    <tr style=\"text-align: right;\">\n",
              "      <th></th>\n",
              "      <th>Status</th>\n",
              "      <th>Is donation</th>\n",
              "      <th>Transparent</th>\n",
              "      <th>Příspěvek</th>\n",
              "      <th>E-mail</th>\n",
              "      <th>Bank Date</th>\n",
              "      <th>Bank Month</th>\n",
              "    </tr>\n",
              "  </thead>\n",
              "  <tbody>\n",
              "    <tr>\n",
              "      <th>0</th>\n",
              "      <td>CANCELLED</td>\n",
              "      <td>1</td>\n",
              "      <td>0</td>\n",
              "      <td>100</td>\n",
              "      <td>bla@bu.be</td>\n",
              "      <td>\\N</td>\n",
              "      <td>\\N</td>\n",
              "    </tr>\n",
              "    <tr>\n",
              "      <th>1</th>\n",
              "      <td>PAID</td>\n",
              "      <td>1</td>\n",
              "      <td>0</td>\n",
              "      <td>100</td>\n",
              "      <td>zbysek.pochyly@gmail.com</td>\n",
              "      <td>04.10.2017</td>\n",
              "      <td>201710</td>\n",
              "    </tr>\n",
              "    <tr>\n",
              "      <th>2</th>\n",
              "      <td>PAID</td>\n",
              "      <td>1</td>\n",
              "      <td>0</td>\n",
              "      <td>100</td>\n",
              "      <td>kuhn.p@seznam.cz</td>\n",
              "      <td>04.10.2017</td>\n",
              "      <td>201710</td>\n",
              "    </tr>\n",
              "    <tr>\n",
              "      <th>3</th>\n",
              "      <td>PAID</td>\n",
              "      <td>1</td>\n",
              "      <td>0</td>\n",
              "      <td>3000</td>\n",
              "      <td>radka@outpost.cz</td>\n",
              "      <td>04.10.2017</td>\n",
              "      <td>201710</td>\n",
              "    </tr>\n",
              "    <tr>\n",
              "      <th>4</th>\n",
              "      <td>PAID</td>\n",
              "      <td>1</td>\n",
              "      <td>0</td>\n",
              "      <td>500</td>\n",
              "      <td>spoulson@seznam.cz</td>\n",
              "      <td>04.10.2017</td>\n",
              "      <td>201710</td>\n",
              "    </tr>\n",
              "  </tbody>\n",
              "</table>\n",
              "</div>\n",
              "    <div class=\"colab-df-buttons\">\n",
              "\n",
              "  <div class=\"colab-df-container\">\n",
              "    <button class=\"colab-df-convert\" onclick=\"convertToInteractive('df-95ccc076-e83b-443f-bcf4-13489576f981')\"\n",
              "            title=\"Convert this dataframe to an interactive table.\"\n",
              "            style=\"display:none;\">\n",
              "\n",
              "  <svg xmlns=\"http://www.w3.org/2000/svg\" height=\"24px\" viewBox=\"0 -960 960 960\">\n",
              "    <path d=\"M120-120v-720h720v720H120Zm60-500h600v-160H180v160Zm220 220h160v-160H400v160Zm0 220h160v-160H400v160ZM180-400h160v-160H180v160Zm440 0h160v-160H620v160ZM180-180h160v-160H180v160Zm440 0h160v-160H620v160Z\"/>\n",
              "  </svg>\n",
              "    </button>\n",
              "\n",
              "  <style>\n",
              "    .colab-df-container {\n",
              "      display:flex;\n",
              "      gap: 12px;\n",
              "    }\n",
              "\n",
              "    .colab-df-convert {\n",
              "      background-color: #E8F0FE;\n",
              "      border: none;\n",
              "      border-radius: 50%;\n",
              "      cursor: pointer;\n",
              "      display: none;\n",
              "      fill: #1967D2;\n",
              "      height: 32px;\n",
              "      padding: 0 0 0 0;\n",
              "      width: 32px;\n",
              "    }\n",
              "\n",
              "    .colab-df-convert:hover {\n",
              "      background-color: #E2EBFA;\n",
              "      box-shadow: 0px 1px 2px rgba(60, 64, 67, 0.3), 0px 1px 3px 1px rgba(60, 64, 67, 0.15);\n",
              "      fill: #174EA6;\n",
              "    }\n",
              "\n",
              "    .colab-df-buttons div {\n",
              "      margin-bottom: 4px;\n",
              "    }\n",
              "\n",
              "    [theme=dark] .colab-df-convert {\n",
              "      background-color: #3B4455;\n",
              "      fill: #D2E3FC;\n",
              "    }\n",
              "\n",
              "    [theme=dark] .colab-df-convert:hover {\n",
              "      background-color: #434B5C;\n",
              "      box-shadow: 0px 1px 3px 1px rgba(0, 0, 0, 0.15);\n",
              "      filter: drop-shadow(0px 1px 2px rgba(0, 0, 0, 0.3));\n",
              "      fill: #FFFFFF;\n",
              "    }\n",
              "  </style>\n",
              "\n",
              "    <script>\n",
              "      const buttonEl =\n",
              "        document.querySelector('#df-95ccc076-e83b-443f-bcf4-13489576f981 button.colab-df-convert');\n",
              "      buttonEl.style.display =\n",
              "        google.colab.kernel.accessAllowed ? 'block' : 'none';\n",
              "\n",
              "      async function convertToInteractive(key) {\n",
              "        const element = document.querySelector('#df-95ccc076-e83b-443f-bcf4-13489576f981');\n",
              "        const dataTable =\n",
              "          await google.colab.kernel.invokeFunction('convertToInteractive',\n",
              "                                                    [key], {});\n",
              "        if (!dataTable) return;\n",
              "\n",
              "        const docLinkHtml = 'Like what you see? Visit the ' +\n",
              "          '<a target=\"_blank\" href=https://colab.research.google.com/notebooks/data_table.ipynb>data table notebook</a>'\n",
              "          + ' to learn more about interactive tables.';\n",
              "        element.innerHTML = '';\n",
              "        dataTable['output_type'] = 'display_data';\n",
              "        await google.colab.output.renderOutput(dataTable, element);\n",
              "        const docLink = document.createElement('div');\n",
              "        docLink.innerHTML = docLinkHtml;\n",
              "        element.appendChild(docLink);\n",
              "      }\n",
              "    </script>\n",
              "  </div>\n",
              "\n",
              "\n",
              "<div id=\"df-720438bc-3593-4b49-b7a7-281f71a8626e\">\n",
              "  <button class=\"colab-df-quickchart\" onclick=\"quickchart('df-720438bc-3593-4b49-b7a7-281f71a8626e')\"\n",
              "            title=\"Suggest charts\"\n",
              "            style=\"display:none;\">\n",
              "\n",
              "<svg xmlns=\"http://www.w3.org/2000/svg\" height=\"24px\"viewBox=\"0 0 24 24\"\n",
              "     width=\"24px\">\n",
              "    <g>\n",
              "        <path d=\"M19 3H5c-1.1 0-2 .9-2 2v14c0 1.1.9 2 2 2h14c1.1 0 2-.9 2-2V5c0-1.1-.9-2-2-2zM9 17H7v-7h2v7zm4 0h-2V7h2v10zm4 0h-2v-4h2v4z\"/>\n",
              "    </g>\n",
              "</svg>\n",
              "  </button>\n",
              "\n",
              "<style>\n",
              "  .colab-df-quickchart {\n",
              "      --bg-color: #E8F0FE;\n",
              "      --fill-color: #1967D2;\n",
              "      --hover-bg-color: #E2EBFA;\n",
              "      --hover-fill-color: #174EA6;\n",
              "      --disabled-fill-color: #AAA;\n",
              "      --disabled-bg-color: #DDD;\n",
              "  }\n",
              "\n",
              "  [theme=dark] .colab-df-quickchart {\n",
              "      --bg-color: #3B4455;\n",
              "      --fill-color: #D2E3FC;\n",
              "      --hover-bg-color: #434B5C;\n",
              "      --hover-fill-color: #FFFFFF;\n",
              "      --disabled-bg-color: #3B4455;\n",
              "      --disabled-fill-color: #666;\n",
              "  }\n",
              "\n",
              "  .colab-df-quickchart {\n",
              "    background-color: var(--bg-color);\n",
              "    border: none;\n",
              "    border-radius: 50%;\n",
              "    cursor: pointer;\n",
              "    display: none;\n",
              "    fill: var(--fill-color);\n",
              "    height: 32px;\n",
              "    padding: 0;\n",
              "    width: 32px;\n",
              "  }\n",
              "\n",
              "  .colab-df-quickchart:hover {\n",
              "    background-color: var(--hover-bg-color);\n",
              "    box-shadow: 0 1px 2px rgba(60, 64, 67, 0.3), 0 1px 3px 1px rgba(60, 64, 67, 0.15);\n",
              "    fill: var(--button-hover-fill-color);\n",
              "  }\n",
              "\n",
              "  .colab-df-quickchart-complete:disabled,\n",
              "  .colab-df-quickchart-complete:disabled:hover {\n",
              "    background-color: var(--disabled-bg-color);\n",
              "    fill: var(--disabled-fill-color);\n",
              "    box-shadow: none;\n",
              "  }\n",
              "\n",
              "  .colab-df-spinner {\n",
              "    border: 2px solid var(--fill-color);\n",
              "    border-color: transparent;\n",
              "    border-bottom-color: var(--fill-color);\n",
              "    animation:\n",
              "      spin 1s steps(1) infinite;\n",
              "  }\n",
              "\n",
              "  @keyframes spin {\n",
              "    0% {\n",
              "      border-color: transparent;\n",
              "      border-bottom-color: var(--fill-color);\n",
              "      border-left-color: var(--fill-color);\n",
              "    }\n",
              "    20% {\n",
              "      border-color: transparent;\n",
              "      border-left-color: var(--fill-color);\n",
              "      border-top-color: var(--fill-color);\n",
              "    }\n",
              "    30% {\n",
              "      border-color: transparent;\n",
              "      border-left-color: var(--fill-color);\n",
              "      border-top-color: var(--fill-color);\n",
              "      border-right-color: var(--fill-color);\n",
              "    }\n",
              "    40% {\n",
              "      border-color: transparent;\n",
              "      border-right-color: var(--fill-color);\n",
              "      border-top-color: var(--fill-color);\n",
              "    }\n",
              "    60% {\n",
              "      border-color: transparent;\n",
              "      border-right-color: var(--fill-color);\n",
              "    }\n",
              "    80% {\n",
              "      border-color: transparent;\n",
              "      border-right-color: var(--fill-color);\n",
              "      border-bottom-color: var(--fill-color);\n",
              "    }\n",
              "    90% {\n",
              "      border-color: transparent;\n",
              "      border-bottom-color: var(--fill-color);\n",
              "    }\n",
              "  }\n",
              "</style>\n",
              "\n",
              "  <script>\n",
              "    async function quickchart(key) {\n",
              "      const quickchartButtonEl =\n",
              "        document.querySelector('#' + key + ' button');\n",
              "      quickchartButtonEl.disabled = true;  // To prevent multiple clicks.\n",
              "      quickchartButtonEl.classList.add('colab-df-spinner');\n",
              "      try {\n",
              "        const charts = await google.colab.kernel.invokeFunction(\n",
              "            'suggestCharts', [key], {});\n",
              "      } catch (error) {\n",
              "        console.error('Error during call to suggestCharts:', error);\n",
              "      }\n",
              "      quickchartButtonEl.classList.remove('colab-df-spinner');\n",
              "      quickchartButtonEl.classList.add('colab-df-quickchart-complete');\n",
              "    }\n",
              "    (() => {\n",
              "      let quickchartButtonEl =\n",
              "        document.querySelector('#df-720438bc-3593-4b49-b7a7-281f71a8626e button');\n",
              "      quickchartButtonEl.style.display =\n",
              "        google.colab.kernel.accessAllowed ? 'block' : 'none';\n",
              "    })();\n",
              "  </script>\n",
              "</div>\n",
              "    </div>\n",
              "  </div>\n"
            ],
            "application/vnd.google.colaboratory.intrinsic+json": {
              "type": "dataframe",
              "variable_name": "processed"
            }
          },
          "metadata": {},
          "execution_count": 98
        }
      ]
    },
    {
      "cell_type": "code",
      "source": [
        "data.to_pickle(\"processed.pkl\")"
      ],
      "metadata": {
        "id": "aWA3CaxvvFJY"
      },
      "execution_count": null,
      "outputs": []
    },
    {
      "cell_type": "code",
      "source": [
        "processed.drop(processed[processed['Status'] == 'CANCELLED'].index, inplace = True)"
      ],
      "metadata": {
        "id": "OiSG77g9vYNS"
      },
      "execution_count": null,
      "outputs": []
    },
    {
      "cell_type": "code",
      "source": [
        "processed.drop(processed[processed['Status'] == 'PENDING'].index, inplace = True)"
      ],
      "metadata": {
        "id": "gUL6S5bCwwl7"
      },
      "execution_count": null,
      "outputs": []
    },
    {
      "cell_type": "code",
      "source": [
        "processed.drop(processed[processed['Status'] == 'REFUNDED'].index, inplace = True)"
      ],
      "metadata": {
        "id": "MhNP01dpw6bQ"
      },
      "execution_count": null,
      "outputs": []
    },
    {
      "cell_type": "markdown",
      "source": [
        "Deleting 10377 anonymous donors (email = \\N)"
      ],
      "metadata": {
        "id": "yPRs93kgxrkr"
      }
    },
    {
      "cell_type": "code",
      "source": [
        "processed['E-mail'].describe()"
      ],
      "metadata": {
        "colab": {
          "base_uri": "https://localhost:8080/"
        },
        "id": "hyuwv1kw1fzn",
        "outputId": "e48694cf-42c6-4825-bbee-a3ed31323534"
      },
      "execution_count": null,
      "outputs": [
        {
          "output_type": "execute_result",
          "data": {
            "text/plain": [
              "count     105238\n",
              "unique     43708\n",
              "top           \\N\n",
              "freq       10377\n",
              "Name: E-mail, dtype: object"
            ]
          },
          "metadata": {},
          "execution_count": 104
        }
      ]
    },
    {
      "cell_type": "code",
      "source": [
        "processed.drop(processed[processed['E-mail'] == '\\\\N'].index, inplace=True)"
      ],
      "metadata": {
        "id": "VoXuZIZN2SdT"
      },
      "execution_count": null,
      "outputs": []
    },
    {
      "cell_type": "code",
      "source": [
        "processed.drop(processed[processed['Bank Date'] == '\\\\N'].index, inplace=True)"
      ],
      "metadata": {
        "id": "iwFm3S4NPJ3l"
      },
      "execution_count": null,
      "outputs": []
    },
    {
      "cell_type": "code",
      "source": [
        "data.to_pickle(\"processed1.pkl\")"
      ],
      "metadata": {
        "id": "-wyjNNmX4cQm"
      },
      "execution_count": null,
      "outputs": []
    },
    {
      "cell_type": "code",
      "source": [
        "processed.head(100)"
      ],
      "metadata": {
        "colab": {
          "base_uri": "https://localhost:8080/",
          "height": 424
        },
        "id": "kbaETSnCEN22",
        "outputId": "de1d7433-5635-470b-f590-fd7105e8581e"
      },
      "execution_count": null,
      "outputs": [
        {
          "output_type": "execute_result",
          "data": {
            "text/plain": [
              "    Status  Is donation Transparent Příspěvek                    E-mail  \\\n",
              "1     PAID            1           0       100  zbysek.pochyly@gmail.com   \n",
              "2     PAID            1           0       100          kuhn.p@seznam.cz   \n",
              "3     PAID            1           0      3000          radka@outpost.cz   \n",
              "4     PAID            1           0       500        spoulson@seznam.cz   \n",
              "6     PAID            1           0       100  dana.lipova@opssirius.cz   \n",
              "..     ...          ...         ...       ...                       ...   \n",
              "134   PAID            1           0       100   turnhoferovai@seznam.cz   \n",
              "135   PAID            1           0       973          radka@outpost.cz   \n",
              "137   PAID            1           0       200     andilek2810@seznam.cz   \n",
              "138   PAID            1           0       500   michal.kramar@seznam.cz   \n",
              "139   PAID            1           0       300        spoulson@seznam.cz   \n",
              "\n",
              "      Bank Date Bank Month  \n",
              "1    04.10.2017     201710  \n",
              "2    04.10.2017     201710  \n",
              "3    04.10.2017     201710  \n",
              "4    04.10.2017     201710  \n",
              "6    04.10.2017     201710  \n",
              "..          ...        ...  \n",
              "134  16.11.2017     201711  \n",
              "135  29.09.2017     201709  \n",
              "137  29.09.2017     201709  \n",
              "138  03.10.2017     201710  \n",
              "139  03.10.2017     201710  \n",
              "\n",
              "[100 rows x 7 columns]"
            ],
            "text/html": [
              "\n",
              "  <div id=\"df-836ade9f-f154-4d99-9e88-2d17a3f525b9\" class=\"colab-df-container\">\n",
              "    <div>\n",
              "<style scoped>\n",
              "    .dataframe tbody tr th:only-of-type {\n",
              "        vertical-align: middle;\n",
              "    }\n",
              "\n",
              "    .dataframe tbody tr th {\n",
              "        vertical-align: top;\n",
              "    }\n",
              "\n",
              "    .dataframe thead th {\n",
              "        text-align: right;\n",
              "    }\n",
              "</style>\n",
              "<table border=\"1\" class=\"dataframe\">\n",
              "  <thead>\n",
              "    <tr style=\"text-align: right;\">\n",
              "      <th></th>\n",
              "      <th>Status</th>\n",
              "      <th>Is donation</th>\n",
              "      <th>Transparent</th>\n",
              "      <th>Příspěvek</th>\n",
              "      <th>E-mail</th>\n",
              "      <th>Bank Date</th>\n",
              "      <th>Bank Month</th>\n",
              "    </tr>\n",
              "  </thead>\n",
              "  <tbody>\n",
              "    <tr>\n",
              "      <th>1</th>\n",
              "      <td>PAID</td>\n",
              "      <td>1</td>\n",
              "      <td>0</td>\n",
              "      <td>100</td>\n",
              "      <td>zbysek.pochyly@gmail.com</td>\n",
              "      <td>04.10.2017</td>\n",
              "      <td>201710</td>\n",
              "    </tr>\n",
              "    <tr>\n",
              "      <th>2</th>\n",
              "      <td>PAID</td>\n",
              "      <td>1</td>\n",
              "      <td>0</td>\n",
              "      <td>100</td>\n",
              "      <td>kuhn.p@seznam.cz</td>\n",
              "      <td>04.10.2017</td>\n",
              "      <td>201710</td>\n",
              "    </tr>\n",
              "    <tr>\n",
              "      <th>3</th>\n",
              "      <td>PAID</td>\n",
              "      <td>1</td>\n",
              "      <td>0</td>\n",
              "      <td>3000</td>\n",
              "      <td>radka@outpost.cz</td>\n",
              "      <td>04.10.2017</td>\n",
              "      <td>201710</td>\n",
              "    </tr>\n",
              "    <tr>\n",
              "      <th>4</th>\n",
              "      <td>PAID</td>\n",
              "      <td>1</td>\n",
              "      <td>0</td>\n",
              "      <td>500</td>\n",
              "      <td>spoulson@seznam.cz</td>\n",
              "      <td>04.10.2017</td>\n",
              "      <td>201710</td>\n",
              "    </tr>\n",
              "    <tr>\n",
              "      <th>6</th>\n",
              "      <td>PAID</td>\n",
              "      <td>1</td>\n",
              "      <td>0</td>\n",
              "      <td>100</td>\n",
              "      <td>dana.lipova@opssirius.cz</td>\n",
              "      <td>04.10.2017</td>\n",
              "      <td>201710</td>\n",
              "    </tr>\n",
              "    <tr>\n",
              "      <th>...</th>\n",
              "      <td>...</td>\n",
              "      <td>...</td>\n",
              "      <td>...</td>\n",
              "      <td>...</td>\n",
              "      <td>...</td>\n",
              "      <td>...</td>\n",
              "      <td>...</td>\n",
              "    </tr>\n",
              "    <tr>\n",
              "      <th>134</th>\n",
              "      <td>PAID</td>\n",
              "      <td>1</td>\n",
              "      <td>0</td>\n",
              "      <td>100</td>\n",
              "      <td>turnhoferovai@seznam.cz</td>\n",
              "      <td>16.11.2017</td>\n",
              "      <td>201711</td>\n",
              "    </tr>\n",
              "    <tr>\n",
              "      <th>135</th>\n",
              "      <td>PAID</td>\n",
              "      <td>1</td>\n",
              "      <td>0</td>\n",
              "      <td>973</td>\n",
              "      <td>radka@outpost.cz</td>\n",
              "      <td>29.09.2017</td>\n",
              "      <td>201709</td>\n",
              "    </tr>\n",
              "    <tr>\n",
              "      <th>137</th>\n",
              "      <td>PAID</td>\n",
              "      <td>1</td>\n",
              "      <td>0</td>\n",
              "      <td>200</td>\n",
              "      <td>andilek2810@seznam.cz</td>\n",
              "      <td>29.09.2017</td>\n",
              "      <td>201709</td>\n",
              "    </tr>\n",
              "    <tr>\n",
              "      <th>138</th>\n",
              "      <td>PAID</td>\n",
              "      <td>1</td>\n",
              "      <td>0</td>\n",
              "      <td>500</td>\n",
              "      <td>michal.kramar@seznam.cz</td>\n",
              "      <td>03.10.2017</td>\n",
              "      <td>201710</td>\n",
              "    </tr>\n",
              "    <tr>\n",
              "      <th>139</th>\n",
              "      <td>PAID</td>\n",
              "      <td>1</td>\n",
              "      <td>0</td>\n",
              "      <td>300</td>\n",
              "      <td>spoulson@seznam.cz</td>\n",
              "      <td>03.10.2017</td>\n",
              "      <td>201710</td>\n",
              "    </tr>\n",
              "  </tbody>\n",
              "</table>\n",
              "<p>100 rows × 7 columns</p>\n",
              "</div>\n",
              "    <div class=\"colab-df-buttons\">\n",
              "\n",
              "  <div class=\"colab-df-container\">\n",
              "    <button class=\"colab-df-convert\" onclick=\"convertToInteractive('df-836ade9f-f154-4d99-9e88-2d17a3f525b9')\"\n",
              "            title=\"Convert this dataframe to an interactive table.\"\n",
              "            style=\"display:none;\">\n",
              "\n",
              "  <svg xmlns=\"http://www.w3.org/2000/svg\" height=\"24px\" viewBox=\"0 -960 960 960\">\n",
              "    <path d=\"M120-120v-720h720v720H120Zm60-500h600v-160H180v160Zm220 220h160v-160H400v160Zm0 220h160v-160H400v160ZM180-400h160v-160H180v160Zm440 0h160v-160H620v160ZM180-180h160v-160H180v160Zm440 0h160v-160H620v160Z\"/>\n",
              "  </svg>\n",
              "    </button>\n",
              "\n",
              "  <style>\n",
              "    .colab-df-container {\n",
              "      display:flex;\n",
              "      gap: 12px;\n",
              "    }\n",
              "\n",
              "    .colab-df-convert {\n",
              "      background-color: #E8F0FE;\n",
              "      border: none;\n",
              "      border-radius: 50%;\n",
              "      cursor: pointer;\n",
              "      display: none;\n",
              "      fill: #1967D2;\n",
              "      height: 32px;\n",
              "      padding: 0 0 0 0;\n",
              "      width: 32px;\n",
              "    }\n",
              "\n",
              "    .colab-df-convert:hover {\n",
              "      background-color: #E2EBFA;\n",
              "      box-shadow: 0px 1px 2px rgba(60, 64, 67, 0.3), 0px 1px 3px 1px rgba(60, 64, 67, 0.15);\n",
              "      fill: #174EA6;\n",
              "    }\n",
              "\n",
              "    .colab-df-buttons div {\n",
              "      margin-bottom: 4px;\n",
              "    }\n",
              "\n",
              "    [theme=dark] .colab-df-convert {\n",
              "      background-color: #3B4455;\n",
              "      fill: #D2E3FC;\n",
              "    }\n",
              "\n",
              "    [theme=dark] .colab-df-convert:hover {\n",
              "      background-color: #434B5C;\n",
              "      box-shadow: 0px 1px 3px 1px rgba(0, 0, 0, 0.15);\n",
              "      filter: drop-shadow(0px 1px 2px rgba(0, 0, 0, 0.3));\n",
              "      fill: #FFFFFF;\n",
              "    }\n",
              "  </style>\n",
              "\n",
              "    <script>\n",
              "      const buttonEl =\n",
              "        document.querySelector('#df-836ade9f-f154-4d99-9e88-2d17a3f525b9 button.colab-df-convert');\n",
              "      buttonEl.style.display =\n",
              "        google.colab.kernel.accessAllowed ? 'block' : 'none';\n",
              "\n",
              "      async function convertToInteractive(key) {\n",
              "        const element = document.querySelector('#df-836ade9f-f154-4d99-9e88-2d17a3f525b9');\n",
              "        const dataTable =\n",
              "          await google.colab.kernel.invokeFunction('convertToInteractive',\n",
              "                                                    [key], {});\n",
              "        if (!dataTable) return;\n",
              "\n",
              "        const docLinkHtml = 'Like what you see? Visit the ' +\n",
              "          '<a target=\"_blank\" href=https://colab.research.google.com/notebooks/data_table.ipynb>data table notebook</a>'\n",
              "          + ' to learn more about interactive tables.';\n",
              "        element.innerHTML = '';\n",
              "        dataTable['output_type'] = 'display_data';\n",
              "        await google.colab.output.renderOutput(dataTable, element);\n",
              "        const docLink = document.createElement('div');\n",
              "        docLink.innerHTML = docLinkHtml;\n",
              "        element.appendChild(docLink);\n",
              "      }\n",
              "    </script>\n",
              "  </div>\n",
              "\n",
              "\n",
              "<div id=\"df-2e411a38-0329-4b4d-b494-837d4695626d\">\n",
              "  <button class=\"colab-df-quickchart\" onclick=\"quickchart('df-2e411a38-0329-4b4d-b494-837d4695626d')\"\n",
              "            title=\"Suggest charts\"\n",
              "            style=\"display:none;\">\n",
              "\n",
              "<svg xmlns=\"http://www.w3.org/2000/svg\" height=\"24px\"viewBox=\"0 0 24 24\"\n",
              "     width=\"24px\">\n",
              "    <g>\n",
              "        <path d=\"M19 3H5c-1.1 0-2 .9-2 2v14c0 1.1.9 2 2 2h14c1.1 0 2-.9 2-2V5c0-1.1-.9-2-2-2zM9 17H7v-7h2v7zm4 0h-2V7h2v10zm4 0h-2v-4h2v4z\"/>\n",
              "    </g>\n",
              "</svg>\n",
              "  </button>\n",
              "\n",
              "<style>\n",
              "  .colab-df-quickchart {\n",
              "      --bg-color: #E8F0FE;\n",
              "      --fill-color: #1967D2;\n",
              "      --hover-bg-color: #E2EBFA;\n",
              "      --hover-fill-color: #174EA6;\n",
              "      --disabled-fill-color: #AAA;\n",
              "      --disabled-bg-color: #DDD;\n",
              "  }\n",
              "\n",
              "  [theme=dark] .colab-df-quickchart {\n",
              "      --bg-color: #3B4455;\n",
              "      --fill-color: #D2E3FC;\n",
              "      --hover-bg-color: #434B5C;\n",
              "      --hover-fill-color: #FFFFFF;\n",
              "      --disabled-bg-color: #3B4455;\n",
              "      --disabled-fill-color: #666;\n",
              "  }\n",
              "\n",
              "  .colab-df-quickchart {\n",
              "    background-color: var(--bg-color);\n",
              "    border: none;\n",
              "    border-radius: 50%;\n",
              "    cursor: pointer;\n",
              "    display: none;\n",
              "    fill: var(--fill-color);\n",
              "    height: 32px;\n",
              "    padding: 0;\n",
              "    width: 32px;\n",
              "  }\n",
              "\n",
              "  .colab-df-quickchart:hover {\n",
              "    background-color: var(--hover-bg-color);\n",
              "    box-shadow: 0 1px 2px rgba(60, 64, 67, 0.3), 0 1px 3px 1px rgba(60, 64, 67, 0.15);\n",
              "    fill: var(--button-hover-fill-color);\n",
              "  }\n",
              "\n",
              "  .colab-df-quickchart-complete:disabled,\n",
              "  .colab-df-quickchart-complete:disabled:hover {\n",
              "    background-color: var(--disabled-bg-color);\n",
              "    fill: var(--disabled-fill-color);\n",
              "    box-shadow: none;\n",
              "  }\n",
              "\n",
              "  .colab-df-spinner {\n",
              "    border: 2px solid var(--fill-color);\n",
              "    border-color: transparent;\n",
              "    border-bottom-color: var(--fill-color);\n",
              "    animation:\n",
              "      spin 1s steps(1) infinite;\n",
              "  }\n",
              "\n",
              "  @keyframes spin {\n",
              "    0% {\n",
              "      border-color: transparent;\n",
              "      border-bottom-color: var(--fill-color);\n",
              "      border-left-color: var(--fill-color);\n",
              "    }\n",
              "    20% {\n",
              "      border-color: transparent;\n",
              "      border-left-color: var(--fill-color);\n",
              "      border-top-color: var(--fill-color);\n",
              "    }\n",
              "    30% {\n",
              "      border-color: transparent;\n",
              "      border-left-color: var(--fill-color);\n",
              "      border-top-color: var(--fill-color);\n",
              "      border-right-color: var(--fill-color);\n",
              "    }\n",
              "    40% {\n",
              "      border-color: transparent;\n",
              "      border-right-color: var(--fill-color);\n",
              "      border-top-color: var(--fill-color);\n",
              "    }\n",
              "    60% {\n",
              "      border-color: transparent;\n",
              "      border-right-color: var(--fill-color);\n",
              "    }\n",
              "    80% {\n",
              "      border-color: transparent;\n",
              "      border-right-color: var(--fill-color);\n",
              "      border-bottom-color: var(--fill-color);\n",
              "    }\n",
              "    90% {\n",
              "      border-color: transparent;\n",
              "      border-bottom-color: var(--fill-color);\n",
              "    }\n",
              "  }\n",
              "</style>\n",
              "\n",
              "  <script>\n",
              "    async function quickchart(key) {\n",
              "      const quickchartButtonEl =\n",
              "        document.querySelector('#' + key + ' button');\n",
              "      quickchartButtonEl.disabled = true;  // To prevent multiple clicks.\n",
              "      quickchartButtonEl.classList.add('colab-df-spinner');\n",
              "      try {\n",
              "        const charts = await google.colab.kernel.invokeFunction(\n",
              "            'suggestCharts', [key], {});\n",
              "      } catch (error) {\n",
              "        console.error('Error during call to suggestCharts:', error);\n",
              "      }\n",
              "      quickchartButtonEl.classList.remove('colab-df-spinner');\n",
              "      quickchartButtonEl.classList.add('colab-df-quickchart-complete');\n",
              "    }\n",
              "    (() => {\n",
              "      let quickchartButtonEl =\n",
              "        document.querySelector('#df-2e411a38-0329-4b4d-b494-837d4695626d button');\n",
              "      quickchartButtonEl.style.display =\n",
              "        google.colab.kernel.accessAllowed ? 'block' : 'none';\n",
              "    })();\n",
              "  </script>\n",
              "</div>\n",
              "    </div>\n",
              "  </div>\n"
            ],
            "application/vnd.google.colaboratory.intrinsic+json": {
              "type": "dataframe",
              "variable_name": "processed",
              "repr_error": "0"
            }
          },
          "metadata": {},
          "execution_count": 111
        }
      ]
    },
    {
      "cell_type": "markdown",
      "source": [
        "## 2. RFM analysis\n",
        "First we need to convert certain data types. Then, we can perform the segmentation.\n",
        "\n"
      ],
      "metadata": {
        "id": "NdMc3r3RLbJt"
      }
    },
    {
      "cell_type": "code",
      "source": [
        "# Convert 'Bank Date' column to datetime\n",
        "processed['Bank Date'] = pd.to_datetime(processed['Bank Date'])"
      ],
      "metadata": {
        "id": "8V9AYhZ2Og94"
      },
      "execution_count": null,
      "outputs": []
    },
    {
      "cell_type": "code",
      "source": [
        "processed['Příspěvek'] = processed['Příspěvek'].astype(int)"
      ],
      "metadata": {
        "id": "kXmFMh-rae0H"
      },
      "execution_count": 132,
      "outputs": []
    },
    {
      "cell_type": "code",
      "source": [
        "processed.info()"
      ],
      "metadata": {
        "id": "UuoelMqgQ2e3",
        "outputId": "831d7801-bb15-4f7a-fc29-bde3ec1f5392",
        "colab": {
          "base_uri": "https://localhost:8080/"
        }
      },
      "execution_count": 133,
      "outputs": [
        {
          "output_type": "stream",
          "name": "stdout",
          "text": [
            "<class 'pandas.core.frame.DataFrame'>\n",
            "Int64Index: 94701 entries, 1 to 132045\n",
            "Data columns (total 7 columns):\n",
            " #   Column       Non-Null Count  Dtype         \n",
            "---  ------       --------------  -----         \n",
            " 0   Status       94701 non-null  object        \n",
            " 1   Is donation  94701 non-null  int64         \n",
            " 2   Transparent  94701 non-null  object        \n",
            " 3   Příspěvek    94701 non-null  int64         \n",
            " 4   E-mail       94701 non-null  object        \n",
            " 5   Bank Date    94701 non-null  datetime64[ns]\n",
            " 6   Bank Month   94701 non-null  object        \n",
            "dtypes: datetime64[ns](1), int64(2), object(4)\n",
            "memory usage: 7.8+ MB\n"
          ]
        }
      ]
    },
    {
      "cell_type": "code",
      "source": [
        "current_date = pd.to_datetime('2024-04-14')"
      ],
      "metadata": {
        "id": "K2XDr5FZO76P"
      },
      "execution_count": 118,
      "outputs": []
    },
    {
      "cell_type": "code",
      "source": [
        "# Define a function to calculate recency\n",
        "def calculate_recency(x):\n",
        "    current_date = pd.to_datetime('2024-04-14')  # Replace with your current date\n",
        "    max_date = pd.to_datetime(x.max(), errors='coerce')  # Convert to datetime, handle errors\n",
        "    return (current_date - max_date).days if not pd.isnull(max_date) else pd.NaT"
      ],
      "metadata": {
        "id": "AKuSke-DSU9f"
      },
      "execution_count": 134,
      "outputs": []
    },
    {
      "cell_type": "code",
      "source": [
        "# Group by 'E-mail' and calculate Recency, Frequency, and Monetary values\n",
        "rfm = processed.groupby('E-mail').agg({\n",
        "    'Bank Date': calculate_recency,  # Recency\n",
        "    'E-mail': 'size',  # Frequency\n",
        "    'Příspěvek': 'sum'  # Monetary\n",
        "})\n",
        "\n",
        "# Rename columns\n",
        "rfm.columns = ['Recency', 'Frequency', 'Monetary']\n",
        "\n",
        "# Print RFM data\n",
        "print(rfm)"
      ],
      "metadata": {
        "colab": {
          "base_uri": "https://localhost:8080/"
        },
        "id": "IIpt4EtgZigT",
        "outputId": "4b71a737-31ad-416c-eafb-d7519437bed1"
      },
      "execution_count": 135,
      "outputs": [
        {
          "output_type": "stream",
          "name": "stdout",
          "text": [
            "                       Recency  Frequency  Monetary\n",
            "E-mail                                             \n",
            "001938@GMAIL.COM           243         37     31574\n",
            "007adela@seznam.cz        1529          1       100\n",
            "007haky@gmail.com          373          1       500\n",
            "007jaba@gmail.com          226          2       800\n",
            "007tommy@centrum.cz       1413          1       500\n",
            "...                        ...        ...       ...\n",
            "zzurek@seznam.cz           205          2      1000\n",
            "zzvv@volny.cz              381          1       200\n",
            "zzz@centrum.cz            1281          3      1500\n",
            "zzzuzannnka@seznam.cz      383          1      1800\n",
            "zzzuzzzkaaa@seznam.cz     1277          1       200\n",
            "\n",
            "[43652 rows x 3 columns]\n"
          ]
        }
      ]
    },
    {
      "cell_type": "code",
      "source": [
        "# RFM segmentation\n",
        "# Define quartiles for each RFM metric\n",
        "quartiles = rfm.quantile(q=[0.25, 0.5, 0.75])\n",
        "\n",
        "# Function to create RFM segments\n",
        "def rfm_segment(row, metrics, quartiles):\n",
        "    rfm_segment = ''\n",
        "    for i, metric in enumerate(metrics):\n",
        "        if row[metric] <= quartiles[metric][0.25]:\n",
        "            rfm_segment += '1'\n",
        "        elif row[metric] <= quartiles[metric][0.5]:\n",
        "            rfm_segment += '2'\n",
        "        elif row[metric] <= quartiles[metric][0.75]:\n",
        "            rfm_segment += '3'\n",
        "        else:\n",
        "            rfm_segment += '4'\n",
        "    return rfm_segment"
      ],
      "metadata": {
        "id": "WX3tGa9pcYmD"
      },
      "execution_count": 136,
      "outputs": []
    },
    {
      "cell_type": "code",
      "source": [
        "# Apply segmentation function to each row\n",
        "rfm['RFM_Segment'] = rfm.apply(lambda x: rfm_segment(x, ['Recency', 'Frequency', 'Monetary'], quartiles), axis=1)\n",
        "\n",
        "# Calculate RFM Score\n",
        "rfm['RFM_Score'] = rfm[['Recency', 'Frequency', 'Monetary']].sum(axis=1)\n",
        "\n",
        "# Output RFM data\n",
        "print(rfm)"
      ],
      "metadata": {
        "colab": {
          "base_uri": "https://localhost:8080/"
        },
        "id": "n15m1e6Hduy-",
        "outputId": "31b70e56-7736-493d-fc8f-d274917aae23"
      },
      "execution_count": 137,
      "outputs": [
        {
          "output_type": "stream",
          "name": "stdout",
          "text": [
            "                       Recency  Frequency  Monetary RFM_Segment  RFM_Score\n",
            "E-mail                                                                    \n",
            "001938@GMAIL.COM           243         37     31574         144      31854\n",
            "007adela@seznam.cz        1529          1       100         311       1630\n",
            "007haky@gmail.com          373          1       500         112        874\n",
            "007jaba@gmail.com          226          2       800         143       1028\n",
            "007tommy@centrum.cz       1413          1       500         312       1914\n",
            "...                        ...        ...       ...         ...        ...\n",
            "zzurek@seznam.cz           205          2      1000         143       1207\n",
            "zzvv@volny.cz              381          1       200         111        582\n",
            "zzz@centrum.cz            1281          3      1500         344       2784\n",
            "zzzuzannnka@seznam.cz      383          1      1800         114       2184\n",
            "zzzuzzzkaaa@seznam.cz     1277          1       200         311       1478\n",
            "\n",
            "[43652 rows x 5 columns]\n"
          ]
        }
      ]
    },
    {
      "cell_type": "markdown",
      "source": [
        "## 3. Download the results"
      ],
      "metadata": {
        "id": "bZ4cZI68jDxP"
      }
    },
    {
      "cell_type": "code",
      "source": [
        "rfm.to_csv('rfm.csv', index=False)"
      ],
      "metadata": {
        "id": "V9REGjaujFBp"
      },
      "execution_count": 138,
      "outputs": []
    }
  ]
}